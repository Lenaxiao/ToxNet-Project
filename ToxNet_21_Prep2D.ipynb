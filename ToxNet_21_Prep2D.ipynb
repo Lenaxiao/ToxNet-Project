{
 "cells": [
  {
   "cell_type": "code",
   "execution_count": null,
   "metadata": {
    "collapsed": true
   },
   "outputs": [],
   "source": [
    "import pandas as pd\n",
    "import numpy as np\n",
    "import os\n",
    "\n",
    "from rdkit import Chem"
   ]
  },
  {
   "cell_type": "code",
   "execution_count": null,
   "metadata": {
    "collapsed": true
   },
   "outputs": [],
   "source": [
    "homedir = os.path.expanduser(\"~/\")\n",
    "archdir = homedir+\"AIChem/archive/\"\n",
    "homedir = homedir+\"AIChem/chemnet/chemnet/data/\""
   ]
  },
  {
   "cell_type": "code",
   "execution_count": null,
   "metadata": {},
   "outputs": [],
   "source": [
    "from chem_scripts import cs_compute_features, cs_set_resolution, cs_coords_to_grid, cs_check_grid_boundary\n",
    "from chem_scripts import cs_channel_mapping, cs_map_atom_to_grid, cs_map_bond_to_grid, cs_grid_to_image"
   ]
  },
  {
   "cell_type": "code",
   "execution_count": null,
   "metadata": {},
   "outputs": [],
   "source": [
    "def gen_image():\n",
    "    \n",
    "    exclusion_list = []\n",
    "    full_array_list = []\n",
    "\n",
    "    for i in range(0,df.shape[0]):\n",
    "\n",
    "        # Extract SMILES string\n",
    "        smiles_string = df[\"smiles\"][i]\n",
    "        #print(i, smiles_string)\n",
    "\n",
    "        # Extract ID of molecule\n",
    "        id_string = df[\"id\"][i]\n",
    "\n",
    "        # Read SMILES string\n",
    "        mol = Chem.MolFromSmiles(smiles_string)\n",
    "        \n",
    "        # Compute properties\n",
    "        mol, df_atom, df_bond, nancheckflag = cs_compute_features(mol)\n",
    "        \n",
    "        # Intialize grid\n",
    "        myarray = cs_set_resolution(gridsize, representation=rep)\n",
    "\n",
    "        # Map coordinates to grid\n",
    "        df_atom, atomcheckflag = cs_coords_to_grid(df_atom, dim, res)\n",
    "        \n",
    "        # Check if outside grid\n",
    "        sizecheckflag = cs_check_grid_boundary(df_atom, gridsize)\n",
    "\n",
    "        if sizecheckflag == True or atomcheckflag == True or nancheckflag == True:\n",
    "\n",
    "            exclusion_list.append(id_string)\n",
    "            print(\"EXCLUSION for \"+str(id_string))\n",
    "\n",
    "        else:\n",
    "\n",
    "            # Initialize channels\n",
    "            channel = cs_channel_mapping()\n",
    "\n",
    "            # Map atom to grid\n",
    "            myarray = cs_map_atom_to_grid(myarray, channel, df_atom, representation=rep)\n",
    "\n",
    "            # Map bond to grid\n",
    "            myarray = cs_map_bond_to_grid(myarray, channel, df_atom, df_bond, representation=rep)\n",
    "\n",
    "            # Visualize status every 1000 steps\n",
    "            if (i+1)%nskip==0:\n",
    "                print(\"*** PROCESSING \"+str(i+1)+\": \"+str(id_string)+\" \"+str(smiles_string))\n",
    "                cs_grid_to_image(myarray, mol)\n",
    "\n",
    "            # Generate combined array of raw input\n",
    "            curr_array = myarray.flatten()\n",
    "            curr_array_list = curr_array.tolist()\n",
    "            full_array_list.append(curr_array_list)\n",
    "\n",
    "    full_array = np.asarray(full_array_list)\n",
    "    print(full_array.shape)\n",
    "    print(exclusion_list)\n",
    "\n",
    "    return(full_array, exclusion_list)"
   ]
  },
  {
   "cell_type": "markdown",
   "metadata": {},
   "source": [
    "# Running image preparation"
   ]
  },
  {
   "cell_type": "code",
   "execution_count": null,
   "metadata": {
    "collapsed": true,
    "scrolled": true
   },
   "outputs": [],
   "source": [
    "dim = 40       # Size of the box in Angstroms, not radius!\n",
    "res = 0.5      # Resolution of each pixel\n",
    "rep = \"engA\"    # Image representation used\n",
    "nskip = 500    # How many steps till next visualization\n",
    "\n",
    "gridsize = int(dim/res)"
   ]
  },
  {
   "cell_type": "code",
   "execution_count": null,
   "metadata": {
    "scrolled": true
   },
   "outputs": [],
   "source": [
    "# Specify dataset name\n",
    "jobname = \"tox_niehs_int\"\n",
    "taskname = [\"verytoxic\", \"nontoxic\", \"epa\", \"ghs\", \"logld50\"]\n",
    "\n",
    "for task in taskname:\n",
    "\n",
    "    print(\"PROCESSING TASK: \"+str(jobname)+\" \"+str(task))\n",
    "    \n",
    "    # Specify input and output csv\n",
    "    filein  = homedir+jobname+\"_\"+task+\".csv\"\n",
    "    fileout = homedir+jobname+\"_\"+task+\"_image.csv\"\n",
    "    \n",
    "    # Specify out npy files\n",
    "    fileimage = archdir+jobname+\"_\"+task+\"_img_\"+rep+\".npy\" \n",
    "    filelabel = archdir+jobname+\"_\"+task+\"_img_label.npy\" \n",
    "    \n",
    "    # Generate image\n",
    "    df = pd.read_csv(filein)\n",
    "    full_array, exclusion_list = gen_image()\n",
    "    \n",
    "    # Dataset statistics before and after image generation\n",
    "    print(\"*** Database Specs:\")\n",
    "    print(df.shape[0], len(exclusion_list), int(df.shape[0])-int(len(exclusion_list)))\n",
    "    \n",
    "    # Create csv of final data (after exclusion)\n",
    "    print(\"*** Separating Database:\")\n",
    "    mod_df = df[~df[\"id\"].isin(exclusion_list)]\n",
    "    mod_df.to_csv(fileout, index=False)\n",
    "\n",
    "    # Save generated images as npy\n",
    "    np.save(fileimage, full_array)\n",
    "    print(full_array.shape)\n",
    "    \n",
    "    # Save labels as npy\n",
    "    label_array = mod_df[task].as_matrix().astype(\"float32\")\n",
    "    np.save(filelabel, label_array)\n",
    "    print(label_array.shape)"
   ]
  },
  {
   "cell_type": "code",
   "execution_count": null,
   "metadata": {},
   "outputs": [],
   "source": [
    "# Specify dataset name\n",
    "jobname = \"tox_niehs_tv\"\n",
    "taskname = [\"verytoxic\", \"nontoxic\", \"epa\", \"ghs\", \"logld50\"]\n",
    "\n",
    "for task in taskname:\n",
    "\n",
    "    print(\"PROCESSING TASK: \"+str(jobname)+\" \"+str(task))\n",
    "    \n",
    "    # Specify input and output csv\n",
    "    filein  = homedir+jobname+\"_\"+task+\".csv\"\n",
    "    fileout = homedir+jobname+\"_\"+task+\"_image.csv\"\n",
    "    \n",
    "    # Specify out npy files\n",
    "    fileimage = archdir+jobname+\"_\"+task+\"_img_\"+rep+\".npy\" \n",
    "    filelabel = archdir+jobname+\"_\"+task+\"_img_label.npy\" \n",
    "    \n",
    "    # Generate image\n",
    "    df = pd.read_csv(filein)\n",
    "    full_array, exclusion_list = gen_image()\n",
    "    \n",
    "    # Dataset statistics before and after image generation\n",
    "    print(\"*** Database Specs:\")\n",
    "    print(df.shape[0], len(exclusion_list), int(df.shape[0])-int(len(exclusion_list)))\n",
    "    \n",
    "    # Create csv of final data (after exclusion)\n",
    "    print(\"*** Separating Database:\")\n",
    "    mod_df = df[~df[\"id\"].isin(exclusion_list)]\n",
    "    mod_df.to_csv(fileout, index=False)\n",
    "\n",
    "    # Save generated images as npy\n",
    "    np.save(fileimage, full_array)\n",
    "    print(full_array.shape)\n",
    "    \n",
    "    # Save labels as npy\n",
    "    label_array = mod_df[task].as_matrix().astype(\"float32\")\n",
    "    np.save(filelabel, label_array)\n",
    "    print(label_array.shape)"
   ]
  },
  {
   "cell_type": "code",
   "execution_count": null,
   "metadata": {
    "collapsed": true
   },
   "outputs": [],
   "source": []
  },
  {
   "cell_type": "code",
   "execution_count": null,
   "metadata": {
    "collapsed": true
   },
   "outputs": [],
   "source": []
  },
  {
   "cell_type": "code",
   "execution_count": null,
   "metadata": {
    "collapsed": true
   },
   "outputs": [],
   "source": []
  },
  {
   "cell_type": "code",
   "execution_count": null,
   "metadata": {
    "collapsed": true
   },
   "outputs": [],
   "source": []
  },
  {
   "cell_type": "code",
   "execution_count": null,
   "metadata": {
    "collapsed": true
   },
   "outputs": [],
   "source": []
  }
 ],
 "metadata": {
  "kernelspec": {
   "display_name": "Python 3",
   "language": "python",
   "name": "python3"
  },
  "language_info": {
   "codemirror_mode": {
    "name": "ipython",
    "version": 3
   },
   "file_extension": ".py",
   "mimetype": "text/x-python",
   "name": "python",
   "nbconvert_exporter": "python",
   "pygments_lexer": "ipython3",
   "version": "3.5.3"
  }
 },
 "nbformat": 4,
 "nbformat_minor": 2
}
