{
 "cells": [
  {
   "cell_type": "code",
   "execution_count": 1,
   "metadata": {
    "collapsed": true
   },
   "outputs": [],
   "source": [
    "import pandas as pd\n",
    "import numpy as np\n",
    "import matplotlib.pyplot as plt\n",
    "import seaborn as sns\n",
    "import os\n",
    "\n",
    "from rdkit import Chem\n",
    "%matplotlib inline"
   ]
  },
  {
   "cell_type": "code",
   "execution_count": 2,
   "metadata": {
    "collapsed": true
   },
   "outputs": [],
   "source": [
    "homedir = os.path.expanduser(\"~/\")\n",
    "homedir = homedir+\"AIChem/chemnet/chemnet/data/\"\n",
    "ref_df = pd.read_csv(homedir+\"tox_niehs_desc_minmax.csv\")"
   ]
  },
  {
   "cell_type": "code",
   "execution_count": 3,
   "metadata": {},
   "outputs": [
    {
     "data": {
      "text/html": [
       "<div>\n",
       "<style>\n",
       "    .dataframe thead tr:only-child th {\n",
       "        text-align: right;\n",
       "    }\n",
       "\n",
       "    .dataframe thead th {\n",
       "        text-align: left;\n",
       "    }\n",
       "\n",
       "    .dataframe tbody tr th {\n",
       "        vertical-align: top;\n",
       "    }\n",
       "</style>\n",
       "<table border=\"1\" class=\"dataframe\">\n",
       "  <thead>\n",
       "    <tr style=\"text-align: right;\">\n",
       "      <th></th>\n",
       "      <th>id</th>\n",
       "      <th>0</th>\n",
       "      <th>1</th>\n",
       "      <th>2</th>\n",
       "      <th>3</th>\n",
       "      <th>4</th>\n",
       "      <th>5</th>\n",
       "      <th>6</th>\n",
       "      <th>7</th>\n",
       "      <th>8</th>\n",
       "      <th>...</th>\n",
       "      <th>177</th>\n",
       "      <th>178</th>\n",
       "      <th>179</th>\n",
       "      <th>180</th>\n",
       "      <th>181</th>\n",
       "      <th>182</th>\n",
       "      <th>183</th>\n",
       "      <th>184</th>\n",
       "      <th>185</th>\n",
       "      <th>186</th>\n",
       "    </tr>\n",
       "  </thead>\n",
       "  <tbody>\n",
       "    <tr>\n",
       "      <th>0</th>\n",
       "      <td>molid12</td>\n",
       "      <td>0.019834</td>\n",
       "      <td>0.019384</td>\n",
       "      <td>0.409459</td>\n",
       "      <td>0.019836</td>\n",
       "      <td>0.001198</td>\n",
       "      <td>1.000000</td>\n",
       "      <td>0.016706</td>\n",
       "      <td>0.000000</td>\n",
       "      <td>0.006410</td>\n",
       "      <td>...</td>\n",
       "      <td>0.023769</td>\n",
       "      <td>0.017412</td>\n",
       "      <td>0.020800</td>\n",
       "      <td>0.016502</td>\n",
       "      <td>0.026877</td>\n",
       "      <td>0.026773</td>\n",
       "      <td>0.020584</td>\n",
       "      <td>0.022531</td>\n",
       "      <td>0.021452</td>\n",
       "      <td>0.555834</td>\n",
       "    </tr>\n",
       "    <tr>\n",
       "      <th>1</th>\n",
       "      <td>molid52</td>\n",
       "      <td>0.012948</td>\n",
       "      <td>0.013462</td>\n",
       "      <td>0.387455</td>\n",
       "      <td>0.013694</td>\n",
       "      <td>0.014388</td>\n",
       "      <td>0.000000</td>\n",
       "      <td>0.014320</td>\n",
       "      <td>0.020202</td>\n",
       "      <td>0.012821</td>\n",
       "      <td>...</td>\n",
       "      <td>0.015560</td>\n",
       "      <td>0.012994</td>\n",
       "      <td>0.011340</td>\n",
       "      <td>0.009096</td>\n",
       "      <td>0.016077</td>\n",
       "      <td>0.014970</td>\n",
       "      <td>0.012589</td>\n",
       "      <td>0.010865</td>\n",
       "      <td>0.008678</td>\n",
       "      <td>0.538065</td>\n",
       "    </tr>\n",
       "    <tr>\n",
       "      <th>2</th>\n",
       "      <td>molid63</td>\n",
       "      <td>0.009469</td>\n",
       "      <td>0.008857</td>\n",
       "      <td>0.389399</td>\n",
       "      <td>0.010760</td>\n",
       "      <td>0.009621</td>\n",
       "      <td>1.000000</td>\n",
       "      <td>0.009547</td>\n",
       "      <td>0.020202</td>\n",
       "      <td>0.006410</td>\n",
       "      <td>...</td>\n",
       "      <td>0.015385</td>\n",
       "      <td>0.014060</td>\n",
       "      <td>0.010342</td>\n",
       "      <td>0.000000</td>\n",
       "      <td>0.016194</td>\n",
       "      <td>0.014801</td>\n",
       "      <td>0.013621</td>\n",
       "      <td>0.009909</td>\n",
       "      <td>0.000000</td>\n",
       "      <td>0.510265</td>\n",
       "    </tr>\n",
       "    <tr>\n",
       "      <th>3</th>\n",
       "      <td>molid70</td>\n",
       "      <td>0.015743</td>\n",
       "      <td>0.016802</td>\n",
       "      <td>0.419465</td>\n",
       "      <td>0.011864</td>\n",
       "      <td>0.000000</td>\n",
       "      <td>0.333333</td>\n",
       "      <td>0.009547</td>\n",
       "      <td>0.000000</td>\n",
       "      <td>0.000000</td>\n",
       "      <td>...</td>\n",
       "      <td>0.009318</td>\n",
       "      <td>0.005236</td>\n",
       "      <td>0.002861</td>\n",
       "      <td>0.000843</td>\n",
       "      <td>0.017316</td>\n",
       "      <td>0.016058</td>\n",
       "      <td>0.010583</td>\n",
       "      <td>0.008225</td>\n",
       "      <td>0.007236</td>\n",
       "      <td>0.475104</td>\n",
       "    </tr>\n",
       "    <tr>\n",
       "      <th>4</th>\n",
       "      <td>molid256</td>\n",
       "      <td>0.012278</td>\n",
       "      <td>0.012747</td>\n",
       "      <td>0.357929</td>\n",
       "      <td>0.007879</td>\n",
       "      <td>0.021273</td>\n",
       "      <td>0.666667</td>\n",
       "      <td>0.011933</td>\n",
       "      <td>0.020202</td>\n",
       "      <td>0.019231</td>\n",
       "      <td>...</td>\n",
       "      <td>0.011785</td>\n",
       "      <td>0.010292</td>\n",
       "      <td>0.005740</td>\n",
       "      <td>0.000000</td>\n",
       "      <td>0.014173</td>\n",
       "      <td>0.011338</td>\n",
       "      <td>0.009970</td>\n",
       "      <td>0.005499</td>\n",
       "      <td>0.000000</td>\n",
       "      <td>0.475551</td>\n",
       "    </tr>\n",
       "  </tbody>\n",
       "</table>\n",
       "<p>5 rows × 188 columns</p>\n",
       "</div>"
      ],
      "text/plain": [
       "         id         0         1         2         3         4         5  \\\n",
       "0   molid12  0.019834  0.019384  0.409459  0.019836  0.001198  1.000000   \n",
       "1   molid52  0.012948  0.013462  0.387455  0.013694  0.014388  0.000000   \n",
       "2   molid63  0.009469  0.008857  0.389399  0.010760  0.009621  1.000000   \n",
       "3   molid70  0.015743  0.016802  0.419465  0.011864  0.000000  0.333333   \n",
       "4  molid256  0.012278  0.012747  0.357929  0.007879  0.021273  0.666667   \n",
       "\n",
       "          6         7         8    ...          177       178       179  \\\n",
       "0  0.016706  0.000000  0.006410    ...     0.023769  0.017412  0.020800   \n",
       "1  0.014320  0.020202  0.012821    ...     0.015560  0.012994  0.011340   \n",
       "2  0.009547  0.020202  0.006410    ...     0.015385  0.014060  0.010342   \n",
       "3  0.009547  0.000000  0.000000    ...     0.009318  0.005236  0.002861   \n",
       "4  0.011933  0.020202  0.019231    ...     0.011785  0.010292  0.005740   \n",
       "\n",
       "        180       181       182       183       184       185       186  \n",
       "0  0.016502  0.026877  0.026773  0.020584  0.022531  0.021452  0.555834  \n",
       "1  0.009096  0.016077  0.014970  0.012589  0.010865  0.008678  0.538065  \n",
       "2  0.000000  0.016194  0.014801  0.013621  0.009909  0.000000  0.510265  \n",
       "3  0.000843  0.017316  0.016058  0.010583  0.008225  0.007236  0.475104  \n",
       "4  0.000000  0.014173  0.011338  0.009970  0.005499  0.000000  0.475551  \n",
       "\n",
       "[5 rows x 188 columns]"
      ]
     },
     "execution_count": 3,
     "metadata": {},
     "output_type": "execute_result"
    }
   ],
   "source": [
    "ref_df.head(5)"
   ]
  },
  {
   "cell_type": "markdown",
   "metadata": {},
   "source": [
    "# Generate MLP Dataset"
   ]
  },
  {
   "cell_type": "code",
   "execution_count": 4,
   "metadata": {
    "collapsed": true
   },
   "outputs": [],
   "source": [
    "# Find computed descriptors and generate dataset for MLP input data\n",
    "\n",
    "def create_array(filelist, task):\n",
    "\n",
    "    for name in filelist:\n",
    "        df = pd.read_csv(homedir+name+\".csv\")\n",
    "        df = df.drop('smiles', axis=1)\n",
    "        combined_df = pd.merge(df, ref_df, how=\"left\", on=[\"id\"])\n",
    "        combined_df = combined_df.drop('id', axis=1)\n",
    "        combined_df.to_csv(homedir+name+\"_rdkit.csv\", index=False)"
   ]
  },
  {
   "cell_type": "code",
   "execution_count": 5,
   "metadata": {
    "collapsed": true
   },
   "outputs": [],
   "source": [
    "filelist = ['tox_niehs_tv_verytoxic',\n",
    "            'tox_niehs_int_verytoxic']\n",
    "\n",
    "create_array(filelist, \"verytoxic\")"
   ]
  },
  {
   "cell_type": "code",
   "execution_count": 6,
   "metadata": {
    "collapsed": true,
    "scrolled": true
   },
   "outputs": [],
   "source": [
    "filelist = ['tox_niehs_tv_nontoxic',\n",
    "            'tox_niehs_int_nontoxic']\n",
    "\n",
    "create_array(filelist, \"nontoxic\")"
   ]
  },
  {
   "cell_type": "code",
   "execution_count": 7,
   "metadata": {
    "collapsed": true
   },
   "outputs": [],
   "source": [
    "filelist = ['tox_niehs_tv_epa',\n",
    "            'tox_niehs_int_epa']\n",
    "\n",
    "create_array(filelist, \"epa\")"
   ]
  },
  {
   "cell_type": "code",
   "execution_count": 8,
   "metadata": {
    "collapsed": true
   },
   "outputs": [],
   "source": [
    "filelist = ['tox_niehs_tv_ghs',\n",
    "            'tox_niehs_int_ghs']\n",
    "\n",
    "create_array(filelist, \"ghs\")"
   ]
  },
  {
   "cell_type": "code",
   "execution_count": 9,
   "metadata": {
    "collapsed": true
   },
   "outputs": [],
   "source": [
    "filelist = ['tox_niehs_tv_logld50',\n",
    "            'tox_niehs_int_logld50']\n",
    "\n",
    "create_array(filelist, \"logld50\")"
   ]
  },
  {
   "cell_type": "code",
   "execution_count": null,
   "metadata": {
    "collapsed": true
   },
   "outputs": [],
   "source": []
  }
 ],
 "metadata": {
  "anaconda-cloud": {},
  "kernelspec": {
   "display_name": "Python 3",
   "language": "python",
   "name": "python3"
  },
  "language_info": {
   "codemirror_mode": {
    "name": "ipython",
    "version": 3
   },
   "file_extension": ".py",
   "mimetype": "text/x-python",
   "name": "python",
   "nbconvert_exporter": "python",
   "pygments_lexer": "ipython3",
   "version": "3.5.3"
  }
 },
 "nbformat": 4,
 "nbformat_minor": 1
}
