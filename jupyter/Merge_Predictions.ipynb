{
 "cells": [
  {
   "cell_type": "code",
   "execution_count": 6,
   "metadata": {},
   "outputs": [],
   "source": [
    "import pandas as pd\n",
    "import numpy as np\n",
    "import os"
   ]
  },
  {
   "cell_type": "code",
   "execution_count": 7,
   "metadata": {},
   "outputs": [],
   "source": [
    "# convert probabilities to classes\n",
    "def ProbToClass(df,model_type):\n",
    "    classes = []\n",
    "    for index, i in df.iterrows():\n",
    "        classes.append((np.where(i==i.max())[0])[0])\n",
    "\n",
    "    # add to original dataframe\n",
    "    df[model_type+' prediction'] = classes\n",
    "    return df"
   ]
  },
  {
   "cell_type": "code",
   "execution_count": 8,
   "metadata": {},
   "outputs": [
    {
     "data": {
      "text/html": [
       "<div>\n",
       "<style scoped>\n",
       "    .dataframe tbody tr th:only-of-type {\n",
       "        vertical-align: middle;\n",
       "    }\n",
       "\n",
       "    .dataframe tbody tr th {\n",
       "        vertical-align: top;\n",
       "    }\n",
       "\n",
       "    .dataframe thead th {\n",
       "        text-align: right;\n",
       "    }\n",
       "</style>\n",
       "<table border=\"1\" class=\"dataframe\">\n",
       "  <thead>\n",
       "    <tr style=\"text-align: right;\">\n",
       "      <th></th>\n",
       "      <th>id</th>\n",
       "      <th>smiles</th>\n",
       "      <th>logld50</th>\n",
       "    </tr>\n",
       "  </thead>\n",
       "  <tbody>\n",
       "    <tr>\n",
       "      <th>0</th>\n",
       "      <td>molid70</td>\n",
       "      <td>ClC=CCCl</td>\n",
       "      <td>4.552809</td>\n",
       "    </tr>\n",
       "    <tr>\n",
       "      <th>1</th>\n",
       "      <td>molid597</td>\n",
       "      <td>O=C(O)CCC(=O)O</td>\n",
       "      <td>7.060025</td>\n",
       "    </tr>\n",
       "    <tr>\n",
       "      <th>2</th>\n",
       "      <td>molid1673</td>\n",
       "      <td>CC1CCCCN1N=O</td>\n",
       "      <td>6.396930</td>\n",
       "    </tr>\n",
       "    <tr>\n",
       "      <th>3</th>\n",
       "      <td>molid1818</td>\n",
       "      <td>NC(Cc1ccc(N(CCCl)CCCl)cc1)C(=O)O</td>\n",
       "      <td>3.673706</td>\n",
       "    </tr>\n",
       "    <tr>\n",
       "      <th>4</th>\n",
       "      <td>molid1841</td>\n",
       "      <td>CCN(CC)C(=S)S</td>\n",
       "      <td>7.178065</td>\n",
       "    </tr>\n",
       "  </tbody>\n",
       "</table>\n",
       "</div>"
      ],
      "text/plain": [
       "          id                            smiles   logld50\n",
       "0    molid70                          ClC=CCCl  4.552809\n",
       "1   molid597                    O=C(O)CCC(=O)O  7.060025\n",
       "2  molid1673                      CC1CCCCN1N=O  6.396930\n",
       "3  molid1818  NC(Cc1ccc(N(CCCl)CCCl)cc1)C(=O)O  3.673706\n",
       "4  molid1841                     CCN(CC)C(=S)S  7.178065"
      ]
     },
     "execution_count": 8,
     "metadata": {},
     "output_type": "execute_result"
    }
   ],
   "source": [
    "homedir = os.path.dirname(os.path.realpath('__file__'))\n",
    "jobname = 'tox_niehs_'\n",
    "taskname = 'logld50'\n",
    "test_df = pd.read_csv(r'{}'.format(homedir+'/../data/'+jobname+'int_'+taskname+'.csv'))\n",
    "test_df.head()"
   ]
  },
  {
   "cell_type": "code",
   "execution_count": 9,
   "metadata": {},
   "outputs": [],
   "source": [
    "# MLP reference\n",
    "ref_df = pd.read_csv(r'{}'.format(homedir+'/../data/'+jobname+'int_'+taskname+'_rdkit.csv'))\n",
    "# MLP prediction result\n",
    "result_df = pd.read_csv(r'{}'.format(homedir+'/../result/MLP/'+taskname+'_test_results.csv'), header=None)\n",
    "if (len(result_df.columns) != 1):\n",
    "    result_df = ProbToClass(result_df, 'mlp')"
   ]
  },
  {
   "cell_type": "code",
   "execution_count": 10,
   "metadata": {},
   "outputs": [
    {
     "name": "stdout",
     "output_type": "stream",
     "text": [
      "(627, 2)\n"
     ]
    },
    {
     "data": {
      "text/html": [
       "<div>\n",
       "<style scoped>\n",
       "    .dataframe tbody tr th:only-of-type {\n",
       "        vertical-align: middle;\n",
       "    }\n",
       "\n",
       "    .dataframe tbody tr th {\n",
       "        vertical-align: top;\n",
       "    }\n",
       "\n",
       "    .dataframe thead th {\n",
       "        text-align: right;\n",
       "    }\n",
       "</style>\n",
       "<table border=\"1\" class=\"dataframe\">\n",
       "  <thead>\n",
       "    <tr style=\"text-align: right;\">\n",
       "      <th></th>\n",
       "      <th>0</th>\n",
       "      <th>id</th>\n",
       "    </tr>\n",
       "  </thead>\n",
       "  <tbody>\n",
       "    <tr>\n",
       "      <th>0</th>\n",
       "      <td>5.713997</td>\n",
       "      <td>molid70</td>\n",
       "    </tr>\n",
       "    <tr>\n",
       "      <th>1</th>\n",
       "      <td>8.307622</td>\n",
       "      <td>molid597</td>\n",
       "    </tr>\n",
       "    <tr>\n",
       "      <th>2</th>\n",
       "      <td>6.526076</td>\n",
       "      <td>molid1673</td>\n",
       "    </tr>\n",
       "    <tr>\n",
       "      <th>3</th>\n",
       "      <td>5.953615</td>\n",
       "      <td>molid1818</td>\n",
       "    </tr>\n",
       "    <tr>\n",
       "      <th>4</th>\n",
       "      <td>6.198450</td>\n",
       "      <td>molid1841</td>\n",
       "    </tr>\n",
       "  </tbody>\n",
       "</table>\n",
       "</div>"
      ],
      "text/plain": [
       "          0         id\n",
       "0  5.713997    molid70\n",
       "1  8.307622   molid597\n",
       "2  6.526076  molid1673\n",
       "3  5.953615  molid1818\n",
       "4  6.198450  molid1841"
      ]
     },
     "execution_count": 10,
     "metadata": {},
     "output_type": "execute_result"
    }
   ],
   "source": [
    "# add id to the result\n",
    "result_df['id'] = ref_df['id']\n",
    "print(result_df.shape)\n",
    "result_df.head()"
   ]
  },
  {
   "cell_type": "code",
   "execution_count": 11,
   "metadata": {},
   "outputs": [
    {
     "data": {
      "text/html": [
       "<div>\n",
       "<style scoped>\n",
       "    .dataframe tbody tr th:only-of-type {\n",
       "        vertical-align: middle;\n",
       "    }\n",
       "\n",
       "    .dataframe tbody tr th {\n",
       "        vertical-align: top;\n",
       "    }\n",
       "\n",
       "    .dataframe thead th {\n",
       "        text-align: right;\n",
       "    }\n",
       "</style>\n",
       "<table border=\"1\" class=\"dataframe\">\n",
       "  <thead>\n",
       "    <tr style=\"text-align: right;\">\n",
       "      <th></th>\n",
       "      <th>id</th>\n",
       "      <th>smiles</th>\n",
       "      <th>logld50</th>\n",
       "      <th>0</th>\n",
       "    </tr>\n",
       "  </thead>\n",
       "  <tbody>\n",
       "    <tr>\n",
       "      <th>0</th>\n",
       "      <td>molid70</td>\n",
       "      <td>ClC=CCCl</td>\n",
       "      <td>4.552809</td>\n",
       "      <td>5.713997</td>\n",
       "    </tr>\n",
       "    <tr>\n",
       "      <th>1</th>\n",
       "      <td>molid597</td>\n",
       "      <td>O=C(O)CCC(=O)O</td>\n",
       "      <td>7.060025</td>\n",
       "      <td>8.307622</td>\n",
       "    </tr>\n",
       "    <tr>\n",
       "      <th>2</th>\n",
       "      <td>molid1673</td>\n",
       "      <td>CC1CCCCN1N=O</td>\n",
       "      <td>6.396930</td>\n",
       "      <td>6.526076</td>\n",
       "    </tr>\n",
       "    <tr>\n",
       "      <th>3</th>\n",
       "      <td>molid1818</td>\n",
       "      <td>NC(Cc1ccc(N(CCCl)CCCl)cc1)C(=O)O</td>\n",
       "      <td>3.673706</td>\n",
       "      <td>5.953615</td>\n",
       "    </tr>\n",
       "    <tr>\n",
       "      <th>4</th>\n",
       "      <td>molid1841</td>\n",
       "      <td>CCN(CC)C(=S)S</td>\n",
       "      <td>7.178065</td>\n",
       "      <td>6.198450</td>\n",
       "    </tr>\n",
       "  </tbody>\n",
       "</table>\n",
       "</div>"
      ],
      "text/plain": [
       "          id                            smiles   logld50         0\n",
       "0    molid70                          ClC=CCCl  4.552809  5.713997\n",
       "1   molid597                    O=C(O)CCC(=O)O  7.060025  8.307622\n",
       "2  molid1673                      CC1CCCCN1N=O  6.396930  6.526076\n",
       "3  molid1818  NC(Cc1ccc(N(CCCl)CCCl)cc1)C(=O)O  3.673706  5.953615\n",
       "4  molid1841                     CCN(CC)C(=S)S  7.178065  6.198450"
      ]
     },
     "execution_count": 11,
     "metadata": {},
     "output_type": "execute_result"
    }
   ],
   "source": [
    "# merge mlp prediction\n",
    "combined_df = pd.merge(test_df, result_df, how=\"left\", on=[\"id\"])\n",
    "combined_df.head()"
   ]
  },
  {
   "cell_type": "code",
   "execution_count": null,
   "metadata": {},
   "outputs": [],
   "source": [
    "# RNN reference\n",
    "ref_rnn_df = pd.read_csv(r'{}'.format(homedir+'/../data/'+jobname+'int_'+taskname+'_smiles.csv'))\n",
    "result_rnn_df = pd.read_csv(r'{}'.format(homedir+'/../result/RNN/predictions_'+jobname+taskname+'.csv'), header=None)\n",
    "result_rnn_df = ProbToClass(result_rnn_df, 'rnn')\n",
    "\n",
    "result_rnn_df['id'] = ref_rnn_df['id']\n",
    "print(result_rnn_df.shape)\n",
    "result_rnn_df.head()"
   ]
  },
  {
   "cell_type": "code",
   "execution_count": null,
   "metadata": {},
   "outputs": [],
   "source": [
    "# merge rnn prediction\n",
    "combined_df = pd.merge(combined_df, result_rnn_df, how=\"left\", on=[\"id\"])\n",
    "combined_df.head()"
   ]
  },
  {
   "cell_type": "code",
   "execution_count": 14,
   "metadata": {},
   "outputs": [
    {
     "name": "stdout",
     "output_type": "stream",
     "text": [
      "(622, 2)\n"
     ]
    },
    {
     "data": {
      "text/html": [
       "<div>\n",
       "<style scoped>\n",
       "    .dataframe tbody tr th:only-of-type {\n",
       "        vertical-align: middle;\n",
       "    }\n",
       "\n",
       "    .dataframe tbody tr th {\n",
       "        vertical-align: top;\n",
       "    }\n",
       "\n",
       "    .dataframe thead th {\n",
       "        text-align: right;\n",
       "    }\n",
       "</style>\n",
       "<table border=\"1\" class=\"dataframe\">\n",
       "  <thead>\n",
       "    <tr style=\"text-align: right;\">\n",
       "      <th></th>\n",
       "      <th>0</th>\n",
       "      <th>id</th>\n",
       "    </tr>\n",
       "  </thead>\n",
       "  <tbody>\n",
       "    <tr>\n",
       "      <th>0</th>\n",
       "      <td>5.38323</td>\n",
       "      <td>molid70</td>\n",
       "    </tr>\n",
       "    <tr>\n",
       "      <th>1</th>\n",
       "      <td>7.20584</td>\n",
       "      <td>molid597</td>\n",
       "    </tr>\n",
       "    <tr>\n",
       "      <th>2</th>\n",
       "      <td>6.99694</td>\n",
       "      <td>molid1673</td>\n",
       "    </tr>\n",
       "    <tr>\n",
       "      <th>3</th>\n",
       "      <td>6.44761</td>\n",
       "      <td>molid1818</td>\n",
       "    </tr>\n",
       "    <tr>\n",
       "      <th>4</th>\n",
       "      <td>5.60110</td>\n",
       "      <td>molid1841</td>\n",
       "    </tr>\n",
       "  </tbody>\n",
       "</table>\n",
       "</div>"
      ],
      "text/plain": [
       "         0         id\n",
       "0  5.38323    molid70\n",
       "1  7.20584   molid597\n",
       "2  6.99694  molid1673\n",
       "3  6.44761  molid1818\n",
       "4  5.60110  molid1841"
      ]
     },
     "execution_count": 14,
     "metadata": {},
     "output_type": "execute_result"
    }
   ],
   "source": [
    "# CNN reference\n",
    "ref_cnn_df = pd.read_csv(r'{}'.format(homedir+'/../data/'+jobname+'int_'+taskname+'_image.csv'))\n",
    "result_cnn_df = pd.read_csv(r'{}'.format(homedir+'/../result/CNN/predictions_'+jobname+taskname+'.csv'), header=None)\n",
    "if (len(result_cnn_df.columns) != 1):\n",
    "    result_cnn_df = ProbToClass(result_cnn_df, 'cnn')\n",
    "\n",
    "result_cnn_df['id'] = ref_cnn_df['id']\n",
    "print(result_cnn_df.shape)\n",
    "result_cnn_df.head()"
   ]
  },
  {
   "cell_type": "code",
   "execution_count": 15,
   "metadata": {},
   "outputs": [
    {
     "data": {
      "text/html": [
       "<div>\n",
       "<style scoped>\n",
       "    .dataframe tbody tr th:only-of-type {\n",
       "        vertical-align: middle;\n",
       "    }\n",
       "\n",
       "    .dataframe tbody tr th {\n",
       "        vertical-align: top;\n",
       "    }\n",
       "\n",
       "    .dataframe thead th {\n",
       "        text-align: right;\n",
       "    }\n",
       "</style>\n",
       "<table border=\"1\" class=\"dataframe\">\n",
       "  <thead>\n",
       "    <tr style=\"text-align: right;\">\n",
       "      <th></th>\n",
       "      <th>id</th>\n",
       "      <th>smiles</th>\n",
       "      <th>logld50</th>\n",
       "      <th>0_x</th>\n",
       "      <th>0_y</th>\n",
       "    </tr>\n",
       "  </thead>\n",
       "  <tbody>\n",
       "    <tr>\n",
       "      <th>0</th>\n",
       "      <td>molid70</td>\n",
       "      <td>ClC=CCCl</td>\n",
       "      <td>4.552809</td>\n",
       "      <td>5.713997</td>\n",
       "      <td>5.38323</td>\n",
       "    </tr>\n",
       "    <tr>\n",
       "      <th>1</th>\n",
       "      <td>molid597</td>\n",
       "      <td>O=C(O)CCC(=O)O</td>\n",
       "      <td>7.060025</td>\n",
       "      <td>8.307622</td>\n",
       "      <td>7.20584</td>\n",
       "    </tr>\n",
       "    <tr>\n",
       "      <th>2</th>\n",
       "      <td>molid1673</td>\n",
       "      <td>CC1CCCCN1N=O</td>\n",
       "      <td>6.396930</td>\n",
       "      <td>6.526076</td>\n",
       "      <td>6.99694</td>\n",
       "    </tr>\n",
       "    <tr>\n",
       "      <th>3</th>\n",
       "      <td>molid1818</td>\n",
       "      <td>NC(Cc1ccc(N(CCCl)CCCl)cc1)C(=O)O</td>\n",
       "      <td>3.673706</td>\n",
       "      <td>5.953615</td>\n",
       "      <td>6.44761</td>\n",
       "    </tr>\n",
       "    <tr>\n",
       "      <th>4</th>\n",
       "      <td>molid1841</td>\n",
       "      <td>CCN(CC)C(=S)S</td>\n",
       "      <td>7.178065</td>\n",
       "      <td>6.198450</td>\n",
       "      <td>5.60110</td>\n",
       "    </tr>\n",
       "  </tbody>\n",
       "</table>\n",
       "</div>"
      ],
      "text/plain": [
       "          id                            smiles   logld50       0_x      0_y\n",
       "0    molid70                          ClC=CCCl  4.552809  5.713997  5.38323\n",
       "1   molid597                    O=C(O)CCC(=O)O  7.060025  8.307622  7.20584\n",
       "2  molid1673                      CC1CCCCN1N=O  6.396930  6.526076  6.99694\n",
       "3  molid1818  NC(Cc1ccc(N(CCCl)CCCl)cc1)C(=O)O  3.673706  5.953615  6.44761\n",
       "4  molid1841                     CCN(CC)C(=S)S  7.178065  6.198450  5.60110"
      ]
     },
     "execution_count": 15,
     "metadata": {},
     "output_type": "execute_result"
    }
   ],
   "source": [
    "# merge cnn prediction\n",
    "combined_df = pd.merge(combined_df, result_cnn_df, how=\"left\", on=[\"id\"])\n",
    "combined_df.head()"
   ]
  },
  {
   "cell_type": "code",
   "execution_count": 16,
   "metadata": {},
   "outputs": [
    {
     "data": {
      "text/plain": [
       "True"
      ]
     },
     "execution_count": 16,
     "metadata": {},
     "output_type": "execute_result"
    }
   ],
   "source": [
    "combined_df.isnull().values.any()"
   ]
  },
  {
   "cell_type": "code",
   "execution_count": 17,
   "metadata": {},
   "outputs": [],
   "source": [
    "fileout=homedir+'/../result/'+jobname+'int_'+taskname+'_final.csv'\n",
    "combined_df.to_csv(fileout, index=False)"
   ]
  },
  {
   "cell_type": "code",
   "execution_count": null,
   "metadata": {},
   "outputs": [],
   "source": []
  }
 ],
 "metadata": {
  "kernelspec": {
   "display_name": "Python 3",
   "language": "python",
   "name": "python3"
  },
  "language_info": {
   "codemirror_mode": {
    "name": "ipython",
    "version": 3
   },
   "file_extension": ".py",
   "mimetype": "text/x-python",
   "name": "python",
   "nbconvert_exporter": "python",
   "pygments_lexer": "ipython3",
   "version": "3.6.1"
  }
 },
 "nbformat": 4,
 "nbformat_minor": 2
}
