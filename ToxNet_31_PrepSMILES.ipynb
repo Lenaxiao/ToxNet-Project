{
 "cells": [
  {
   "cell_type": "code",
   "execution_count": 1,
   "metadata": {
    "collapsed": true
   },
   "outputs": [],
   "source": [
    "import pandas as pd\n",
    "import numpy as np\n",
    "import matplotlib.pyplot as plt\n",
    "import seaborn as sns\n",
    "import os\n",
    "\n",
    "from rdkit import Chem\n",
    "%matplotlib inline"
   ]
  },
  {
   "cell_type": "code",
   "execution_count": 2,
   "metadata": {
    "collapsed": true
   },
   "outputs": [],
   "source": [
    "homedir = os.path.expanduser(\"~/\")\n",
    "homedir = homedir+\"AIChem/chemnet/chemnet/data/\""
   ]
  },
  {
   "cell_type": "code",
   "execution_count": 3,
   "metadata": {
    "collapsed": true
   },
   "outputs": [],
   "source": [
    "jobname = \"tox_niehs\"\n",
    "smiles_cutoff = 250"
   ]
  },
  {
   "cell_type": "code",
   "execution_count": 5,
   "metadata": {},
   "outputs": [
    {
     "name": "stdout",
     "output_type": "stream",
     "text": [
      "Database reduced to SMILES length under 250 from (828, 3) to (828, 3)\n",
      "Database reduced to SMILES length under 250 from (828, 3) to (828, 3)\n",
      "Database reduced to SMILES length under 250 from (820, 3) to (820, 3)\n",
      "Database reduced to SMILES length under 250 from (826, 3) to (826, 3)\n",
      "Database reduced to SMILES length under 250 from (627, 3) to (627, 3)\n"
     ]
    }
   ],
   "source": [
    "for taskname in [\"verytoxic\", \"nontoxic\", \"epa\", \"ghs\", \"logld50\"]:\n",
    "    \n",
    "    filename=homedir+jobname+\"_int_\"+taskname+\".csv\"\n",
    "    fileout=homedir+jobname+\"_int_\"+taskname+\"_smiles.csv\"\n",
    "    data = pd.read_csv(filename)\n",
    "    X_cut = data[data['smiles'].map(len) < smiles_cutoff]\n",
    "    print(\"Database reduced to SMILES length under 250 from \"+str(data.shape)+\" to \"+str(X_cut.shape))\n",
    "    X = X_cut[[\"smiles\",taskname]]\n",
    "    X.to_csv(fileout, index=False)"
   ]
  },
  {
   "cell_type": "code",
   "execution_count": 7,
   "metadata": {},
   "outputs": [
    {
     "name": "stdout",
     "output_type": "stream",
     "text": [
      "Database reduced to SMILES length under 250 from (7550, 3) to (7546, 3)\n",
      "Database reduced to SMILES length under 250 from (7539, 3) to (7535, 3)\n",
      "Database reduced to SMILES length under 250 from (7462, 3) to (7458, 3)\n",
      "Database reduced to SMILES length under 250 from (7521, 3) to (7517, 3)\n",
      "Database reduced to SMILES length under 250 from (5606, 3) to (5606, 3)\n"
     ]
    }
   ],
   "source": [
    "for taskname in [\"verytoxic\", \"nontoxic\", \"epa\", \"ghs\", \"logld50\"]:\n",
    "    \n",
    "    filename=homedir+jobname+\"_tv_\"+taskname+\".csv\"\n",
    "    fileout=homedir+jobname+\"_tv_\"+taskname+\"_smiles.csv\"\n",
    "    data = pd.read_csv(filename)\n",
    "    X_cut = data[data['smiles'].map(len) < smiles_cutoff]\n",
    "    print(\"Database reduced to SMILES length under 250 from \"+str(data.shape)+\" to \"+str(X_cut.shape))\n",
    "    X = X_cut[[\"smiles\",taskname]]\n",
    "    X.to_csv(fileout, index=False)"
   ]
  },
  {
   "cell_type": "code",
   "execution_count": null,
   "metadata": {
    "collapsed": true
   },
   "outputs": [],
   "source": []
  }
 ],
 "metadata": {
  "anaconda-cloud": {},
  "kernelspec": {
   "display_name": "Python 3",
   "language": "python",
   "name": "python3"
  },
  "language_info": {
   "codemirror_mode": {
    "name": "ipython",
    "version": 3
   },
   "file_extension": ".py",
   "mimetype": "text/x-python",
   "name": "python",
   "nbconvert_exporter": "python",
   "pygments_lexer": "ipython3",
   "version": "3.5.3"
  }
 },
 "nbformat": 4,
 "nbformat_minor": 1
}
