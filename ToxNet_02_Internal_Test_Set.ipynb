{
 "cells": [
  {
   "cell_type": "code",
   "execution_count": 15,
   "metadata": {
    "collapsed": true
   },
   "outputs": [],
   "source": [
    "import pandas as pd\n",
    "import numpy as np\n",
    "import matplotlib.pyplot as plt\n",
    "import seaborn as sns\n",
    "import os\n",
    "\n",
    "from rdkit import Chem\n",
    "%matplotlib inline"
   ]
  },
  {
   "cell_type": "code",
   "execution_count": 16,
   "metadata": {
    "collapsed": true
   },
   "outputs": [],
   "source": [
    "homedir = os.path.dirname(os.path.realpath('__file__'))\n",
    "homedir = homedir+\"/data/\"\n",
    "df = pd.read_csv(homedir+\"tox_niehs_all.csv\")"
   ]
  },
  {
   "cell_type": "code",
   "execution_count": 17,
   "metadata": {
    "collapsed": false
   },
   "outputs": [
    {
     "data": {
      "text/html": [
       "<div>\n",
       "<style scoped>\n",
       "    .dataframe tbody tr th:only-of-type {\n",
       "        vertical-align: middle;\n",
       "    }\n",
       "\n",
       "    .dataframe tbody tr th {\n",
       "        vertical-align: top;\n",
       "    }\n",
       "\n",
       "    .dataframe thead th {\n",
       "        text-align: right;\n",
       "    }\n",
       "</style>\n",
       "<table border=\"1\" class=\"dataframe\">\n",
       "  <thead>\n",
       "    <tr style=\"text-align: right;\">\n",
       "      <th></th>\n",
       "      <th>CASRN</th>\n",
       "      <th>Canonical_QSARr</th>\n",
       "      <th>Chemical_Name</th>\n",
       "      <th>DTXSID</th>\n",
       "      <th>Extraneous_SMILES</th>\n",
       "      <th>InChI_Code_QSARr</th>\n",
       "      <th>InChI_Key_QSARr</th>\n",
       "      <th>Salt_Solvent</th>\n",
       "      <th>Structure_Source</th>\n",
       "      <th>epa</th>\n",
       "      <th>ghs</th>\n",
       "      <th>id</th>\n",
       "      <th>ld50</th>\n",
       "      <th>logld50</th>\n",
       "      <th>nontoxic</th>\n",
       "      <th>smiles</th>\n",
       "      <th>verytoxic</th>\n",
       "    </tr>\n",
       "  </thead>\n",
       "  <tbody>\n",
       "    <tr>\n",
       "      <th>0</th>\n",
       "      <td>100-35-6</td>\n",
       "      <td>CCN(CCCl)CC</td>\n",
       "      <td>Ethanamine, 2-chloro-N,N-diethyl-</td>\n",
       "      <td>DTXSID8043868</td>\n",
       "      <td>NaN</td>\n",
       "      <td>InChI=1S/C6H14ClN/c1-3-8(4-2)6-5-7/h3-6H2,1-2H3</td>\n",
       "      <td>YMDNODNLFSHHCV-UHFFFAOYSA-N</td>\n",
       "      <td>?</td>\n",
       "      <td>EPA_DSSTox</td>\n",
       "      <td>0.0</td>\n",
       "      <td>1.0</td>\n",
       "      <td>molid12</td>\n",
       "      <td>33.500000</td>\n",
       "      <td>3.372618</td>\n",
       "      <td>0.0</td>\n",
       "      <td>CCN(CC)CCCl</td>\n",
       "      <td>1.0</td>\n",
       "    </tr>\n",
       "    <tr>\n",
       "      <th>1</th>\n",
       "      <td>1003-40-3</td>\n",
       "      <td>NC1C=CN=CC=1</td>\n",
       "      <td>Pyridine, 4-amino-, hydrochloride</td>\n",
       "      <td>DTXSID70143115</td>\n",
       "      <td>NaN</td>\n",
       "      <td>InChI=1S/C5H6N2/c6-5-1-3-7-4-2-5/h1-4H,(H2,6,7)</td>\n",
       "      <td>NUKYPUAOHBNCPY-UHFFFAOYSA-N</td>\n",
       "      <td>Cl</td>\n",
       "      <td>EPA_DSSTox</td>\n",
       "      <td>0.0</td>\n",
       "      <td>1.0</td>\n",
       "      <td>molid52</td>\n",
       "      <td>23.000000</td>\n",
       "      <td>3.052397</td>\n",
       "      <td>0.0</td>\n",
       "      <td>Nc1ccncc1</td>\n",
       "      <td>1.0</td>\n",
       "    </tr>\n",
       "    <tr>\n",
       "      <th>2</th>\n",
       "      <td>10049-60-2</td>\n",
       "      <td>CCC(C)N</td>\n",
       "      <td>NaN</td>\n",
       "      <td>NaN</td>\n",
       "      <td>NaN</td>\n",
       "      <td>InChI=1S/C4H11N/c1-3-4(2)5/h4H,3,5H2,1-2H3</td>\n",
       "      <td>BHRZNVHARXXAHW-UHFFFAOYSA-N</td>\n",
       "      <td>[Cl-]</td>\n",
       "      <td>Public_CrossChecked</td>\n",
       "      <td>2.0</td>\n",
       "      <td>3.0</td>\n",
       "      <td>molid63</td>\n",
       "      <td>1745.333333</td>\n",
       "      <td>6.971154</td>\n",
       "      <td>0.0</td>\n",
       "      <td>CCC(C)N</td>\n",
       "      <td>0.0</td>\n",
       "    </tr>\n",
       "    <tr>\n",
       "      <th>3</th>\n",
       "      <td>10061-01-5</td>\n",
       "      <td>ClC=CCCl</td>\n",
       "      <td>(Z)-Dichloropropene</td>\n",
       "      <td>DTXSID1032305</td>\n",
       "      <td>NaN</td>\n",
       "      <td>InChI=1S/C3H4Cl2/c4-2-1-3-5/h1-2H,3H2</td>\n",
       "      <td>UOORRWUZONOOLO-UHFFFAOYSA-N</td>\n",
       "      <td>?</td>\n",
       "      <td>EPA_DSSTox</td>\n",
       "      <td>1.0</td>\n",
       "      <td>2.0</td>\n",
       "      <td>molid70</td>\n",
       "      <td>96.000000</td>\n",
       "      <td>4.552809</td>\n",
       "      <td>0.0</td>\n",
       "      <td>ClC=CCCl</td>\n",
       "      <td>0.0</td>\n",
       "    </tr>\n",
       "    <tr>\n",
       "      <th>4</th>\n",
       "      <td>10326-41-7</td>\n",
       "      <td>CC(O)C(O)=O</td>\n",
       "      <td>D-Lactic acid</td>\n",
       "      <td>DTXSID0047030</td>\n",
       "      <td>NaN</td>\n",
       "      <td>InChI=1S/C3H6O3/c1-2(4)3(5)6/h2,4H,1H3,(H,5,6)</td>\n",
       "      <td>JVTAAEKCZFNVCJ-UHFFFAOYSA-N</td>\n",
       "      <td>?</td>\n",
       "      <td>EPA_DSSTox</td>\n",
       "      <td>2.0</td>\n",
       "      <td>4.0</td>\n",
       "      <td>molid256</td>\n",
       "      <td>3182.250000</td>\n",
       "      <td>8.041970</td>\n",
       "      <td>1.0</td>\n",
       "      <td>CC(O)C(=O)O</td>\n",
       "      <td>0.0</td>\n",
       "    </tr>\n",
       "  </tbody>\n",
       "</table>\n",
       "</div>"
      ],
      "text/plain": [
       "        CASRN Canonical_QSARr                      Chemical_Name  \\\n",
       "0    100-35-6     CCN(CCCl)CC  Ethanamine, 2-chloro-N,N-diethyl-   \n",
       "1   1003-40-3    NC1C=CN=CC=1  Pyridine, 4-amino-, hydrochloride   \n",
       "2  10049-60-2         CCC(C)N                                NaN   \n",
       "3  10061-01-5        ClC=CCCl                (Z)-Dichloropropene   \n",
       "4  10326-41-7     CC(O)C(O)=O                      D-Lactic acid   \n",
       "\n",
       "           DTXSID Extraneous_SMILES  \\\n",
       "0   DTXSID8043868               NaN   \n",
       "1  DTXSID70143115               NaN   \n",
       "2             NaN               NaN   \n",
       "3   DTXSID1032305               NaN   \n",
       "4   DTXSID0047030               NaN   \n",
       "\n",
       "                                  InChI_Code_QSARr  \\\n",
       "0  InChI=1S/C6H14ClN/c1-3-8(4-2)6-5-7/h3-6H2,1-2H3   \n",
       "1  InChI=1S/C5H6N2/c6-5-1-3-7-4-2-5/h1-4H,(H2,6,7)   \n",
       "2       InChI=1S/C4H11N/c1-3-4(2)5/h4H,3,5H2,1-2H3   \n",
       "3            InChI=1S/C3H4Cl2/c4-2-1-3-5/h1-2H,3H2   \n",
       "4   InChI=1S/C3H6O3/c1-2(4)3(5)6/h2,4H,1H3,(H,5,6)   \n",
       "\n",
       "               InChI_Key_QSARr Salt_Solvent     Structure_Source  epa  ghs  \\\n",
       "0  YMDNODNLFSHHCV-UHFFFAOYSA-N            ?           EPA_DSSTox  0.0  1.0   \n",
       "1  NUKYPUAOHBNCPY-UHFFFAOYSA-N           Cl           EPA_DSSTox  0.0  1.0   \n",
       "2  BHRZNVHARXXAHW-UHFFFAOYSA-N        [Cl-]  Public_CrossChecked  2.0  3.0   \n",
       "3  UOORRWUZONOOLO-UHFFFAOYSA-N            ?           EPA_DSSTox  1.0  2.0   \n",
       "4  JVTAAEKCZFNVCJ-UHFFFAOYSA-N            ?           EPA_DSSTox  2.0  4.0   \n",
       "\n",
       "         id         ld50   logld50  nontoxic       smiles  verytoxic  \n",
       "0   molid12    33.500000  3.372618       0.0  CCN(CC)CCCl        1.0  \n",
       "1   molid52    23.000000  3.052397       0.0    Nc1ccncc1        1.0  \n",
       "2   molid63  1745.333333  6.971154       0.0      CCC(C)N        0.0  \n",
       "3   molid70    96.000000  4.552809       0.0     ClC=CCCl        0.0  \n",
       "4  molid256  3182.250000  8.041970       1.0  CC(O)C(=O)O        0.0  "
      ]
     },
     "execution_count": 17,
     "metadata": {},
     "output_type": "execute_result"
    }
   ],
   "source": [
    "df.head()"
   ]
  },
  {
   "cell_type": "markdown",
   "metadata": {},
   "source": [
    "# Construct Internal Test Set"
   ]
  },
  {
   "cell_type": "code",
   "execution_count": 18,
   "metadata": {
    "collapsed": true
   },
   "outputs": [],
   "source": [
    "size = 0.10\n",
    "seed = 6\n",
    "np.random.seed(seed)"
   ]
  },
  {
   "cell_type": "code",
   "execution_count": 19,
   "metadata": {
    "collapsed": true
   },
   "outputs": [],
   "source": [
    "msk = np.random.rand(len(df)) < 0.1\n",
    "df_tv = df[~msk]\n",
    "df_int = df[msk]"
   ]
  },
  {
   "cell_type": "code",
   "execution_count": 20,
   "metadata": {
    "collapsed": false
   },
   "outputs": [
    {
     "name": "stdout",
     "output_type": "stream",
     "text": [
      "(8380, 17) (7552, 17) (828, 17)\n"
     ]
    }
   ],
   "source": [
    "print(df.shape, df_tv.shape, df_int.shape)"
   ]
  },
  {
   "cell_type": "code",
   "execution_count": 21,
   "metadata": {
    "collapsed": true
   },
   "outputs": [],
   "source": [
    "df_tv.to_csv(homedir+'tox_niehs_all_trainval.csv', index=False)\n",
    "df_int.to_csv(homedir+'tox_niehs_all_int.csv', index=False)"
   ]
  },
  {
   "cell_type": "markdown",
   "metadata": {},
   "source": [
    "# Evaluate Dataset Characteristics"
   ]
  },
  {
   "cell_type": "code",
   "execution_count": 22,
   "metadata": {
    "collapsed": true
   },
   "outputs": [],
   "source": [
    "import matplotlib.pyplot as plt"
   ]
  },
  {
   "cell_type": "code",
   "execution_count": 23,
   "metadata": {
    "collapsed": false
   },
   "outputs": [
    {
     "data": {
      "text/plain": [
       "<matplotlib.axes._subplots.AxesSubplot at 0x1e48c07e320>"
      ]
     },
     "execution_count": 23,
     "metadata": {},
     "output_type": "execute_result"
    },
    {
     "data": {
      "image/png": "[encoded data removed]",
      "text/plain": [
       "<matplotlib.figure.Figure at 0x1e48e255da0>"
      ]
     },
     "metadata": {},
     "output_type": "display_data"
    }
   ],
   "source": [
    "task = 'verytoxic'\n",
    "\n",
    "fig, axes = plt.subplots(nrows=1, ncols=3)\n",
    "\n",
    "df[task].hist(normed=True, ax=axes[0])\n",
    "df_tv[task].hist(normed=True, ax=axes[1])\n",
    "df_int[task].hist(normed=True, ax=axes[2])"
   ]
  },
  {
   "cell_type": "code",
   "execution_count": 24,
   "metadata": {
    "collapsed": false
   },
   "outputs": [
    {
     "data": {
      "text/plain": [
       "<matplotlib.axes._subplots.AxesSubplot at 0x1e48c1a6ef0>"
      ]
     },
     "execution_count": 24,
     "metadata": {},
     "output_type": "execute_result"
    },
    {
     "data": {
      "image/png": "[encoded data removed]",
      "text/plain": [
       "<matplotlib.figure.Figure at 0x1e48e2556d8>"
      ]
     },
     "metadata": {},
     "output_type": "display_data"
    }
   ],
   "source": [
    "task = 'nontoxic'\n",
    "\n",
    "fig, axes = plt.subplots(nrows=1, ncols=3)\n",
    "\n",
    "df[task].hist(normed=True, ax=axes[0])\n",
    "df_tv[task].hist(normed=True, ax=axes[1])\n",
    "df_int[task].hist(normed=True, ax=axes[2])"
   ]
  },
  {
   "cell_type": "code",
   "execution_count": 25,
   "metadata": {
    "collapsed": false
   },
   "outputs": [
    {
     "data": {
      "text/plain": [
       "<matplotlib.axes._subplots.AxesSubplot at 0x1e48c2e4978>"
      ]
     },
     "execution_count": 25,
     "metadata": {},
     "output_type": "execute_result"
    },
    {
     "data": {
      "image/png": "[encoded data removed]",
      "text/plain": [
       "<matplotlib.figure.Figure at 0x1e48c0c6f98>"
      ]
     },
     "metadata": {},
     "output_type": "display_data"
    }
   ],
   "source": [
    "task = 'epa'\n",
    "\n",
    "fig, axes = plt.subplots(nrows=1, ncols=3)\n",
    "\n",
    "df[task].hist(normed=True, ax=axes[0])\n",
    "df_tv[task].hist(normed=True, ax=axes[1])\n",
    "df_int[task].hist(normed=True, ax=axes[2])"
   ]
  },
  {
   "cell_type": "code",
   "execution_count": 26,
   "metadata": {
    "collapsed": false
   },
   "outputs": [
    {
     "data": {
      "text/plain": [
       "<matplotlib.axes._subplots.AxesSubplot at 0x1e48d5e0400>"
      ]
     },
     "execution_count": 26,
     "metadata": {},
     "output_type": "execute_result"
    },
    {
     "data": {
      "image/png": "[encoded data removed]",
      "text/plain": [
       "<matplotlib.figure.Figure at 0x1e48c266278>"
      ]
     },
     "metadata": {},
     "output_type": "display_data"
    }
   ],
   "source": [
    "task = 'ghs'\n",
    "\n",
    "fig, axes = plt.subplots(nrows=1, ncols=3)\n",
    "\n",
    "df[task].hist(normed=True, ax=axes[0])\n",
    "df_tv[task].hist(normed=True, ax=axes[1])\n",
    "df_int[task].hist(normed=True, ax=axes[2])"
   ]
  },
  {
   "cell_type": "code",
   "execution_count": 27,
   "metadata": {
    "collapsed": false
   },
   "outputs": [
    {
     "data": {
      "text/plain": [
       "<matplotlib.axes._subplots.AxesSubplot at 0x1e48d71a128>"
      ]
     },
     "execution_count": 27,
     "metadata": {},
     "output_type": "execute_result"
    },
    {
     "data": {
      "image/png": "[encoded data removed]",
      "text/plain": [
       "<matplotlib.figure.Figure at 0x1e48d67bfd0>"
      ]
     },
     "metadata": {},
     "output_type": "display_data"
    }
   ],
   "source": [
    "task = 'ld50'\n",
    "\n",
    "fig, axes = plt.subplots(nrows=1, ncols=3)\n",
    "\n",
    "df[task].hist(normed=True, ax=axes[0])\n",
    "df_tv[task].hist(normed=True, ax=axes[1])\n",
    "df_int[task].hist(normed=True, ax=axes[2])"
   ]
  },
  {
   "cell_type": "code",
   "execution_count": 28,
   "metadata": {
    "collapsed": false
   },
   "outputs": [
    {
     "data": {
      "text/plain": [
       "<matplotlib.axes._subplots.AxesSubplot at 0x1e48d844ba8>"
      ]
     },
     "execution_count": 28,
     "metadata": {},
     "output_type": "execute_result"
    },
    {
     "data": {
      "image/png": "[encoded data removed]",
      "text/plain": [
       "<matplotlib.figure.Figure at 0x1e48d7bcdd8>"
      ]
     },
     "metadata": {},
     "output_type": "display_data"
    }
   ],
   "source": [
    "task = 'logld50'\n",
    "\n",
    "fig, axes = plt.subplots(nrows=1, ncols=3)\n",
    "\n",
    "df[task].hist(normed=True, ax=axes[0])\n",
    "df_tv[task].hist(normed=True, ax=axes[1])\n",
    "df_int[task].hist(normed=True, ax=axes[2])"
   ]
  },
  {
   "cell_type": "code",
   "execution_count": null,
   "metadata": {
    "collapsed": true
   },
   "outputs": [],
   "source": []
  }
 ],
 "metadata": {
  "kernelspec": {
   "display_name": "Python 3",
   "language": "python",
   "name": "python3"
  },
  "language_info": {
   "codemirror_mode": {
    "name": "ipython",
    "version": 3
   },
   "file_extension": ".py",
   "mimetype": "text/x-python",
   "name": "python",
   "nbconvert_exporter": "python",
   "pygments_lexer": "ipython3",
   "version": "3.6.2"
  }
 },
 "nbformat": 4,
 "nbformat_minor": 2
}
